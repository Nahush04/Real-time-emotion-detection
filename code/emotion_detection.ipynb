{
  "nbformat": 4,
  "nbformat_minor": 0,
  "metadata": {
    "colab": {
      "name": "emotion_detection.ipynb",
      "provenance": []
    },
    "kernelspec": {
      "name": "python3",
      "display_name": "Python 3"
    },
    "accelerator": "GPU",
    "gpuClass": "standard"
  },
  "cells": [
    {
      "cell_type": "code",
      "metadata": {
        "id": "kDabKvWoTeWW",
        "colab": {
          "base_uri": "https://localhost:8080/"
        },
        "outputId": "6e22a6da-1c60-40c5-f091-cddfd8c97f73"
      },
      "source": [
        "# My numpy arrays are stored in google drive. \n",
        "from pydrive.auth import GoogleAuth\n",
        "from pydrive.drive import GoogleDrive\n",
        "from google.colab import auth\n",
        "from oauth2client.client import GoogleCredentials\n",
        " \n",
        "# Authenticate and create the PyDrive client.\n",
        "auth.authenticate_user()\n",
        "gauth = GoogleAuth()\n",
        "gauth.credentials = GoogleCredentials.get_application_default()\n",
        "drive = GoogleDrive(gauth)\n",
        "\n",
        "# importing the libraries\n",
        "import numpy as np\n",
        "import pickle\n",
        "import pandas as pd\n",
        "import tensorflow as tf\n",
        "from tensorflow import keras\n",
        "import cv2\n",
        "import matplotlib.pyplot as plt\n",
        "\n",
        "from google.colab import drive\n",
        "\n",
        "drive.mount('/content/gdrive/', force_remount=True)"
      ],
      "execution_count": 1,
      "outputs": [
        {
          "output_type": "stream",
          "name": "stdout",
          "text": [
            "Mounted at /content/gdrive/\n"
          ]
        }
      ]
    },
    {
      "cell_type": "code",
      "metadata": {
        "id": "IOh2XNCMUMOa"
      },
      "source": [
        "# mapping emotion to index\n",
        "emotion_to_index = {'angry':0,\n",
        "                   'fearful':1,\n",
        "                   'happy':2,\n",
        "                   'neutral':3,\n",
        "                   'sad':4,\n",
        "                   'surprised':5}\n",
        "index_to_emotion = {0: 'angry',\n",
        "                    1: 'fearful',\n",
        "                    2: 'happy',\n",
        "                    3: 'neutral',\n",
        "                    4: 'sad',\n",
        "                    5: 'surprised'}\n",
        " \n",
        "emotions = list(emotion_to_index.keys())"
      ],
      "execution_count": 2,
      "outputs": []
    },
    {
      "cell_type": "code",
      "metadata": {
        "id": "SBPsSmHNUUoC",
        "colab": {
          "base_uri": "https://localhost:8080/"
        },
        "outputId": "92778aee-6ed8-4496-f139-1a422bd50293"
      },
      "source": [
        "# Lets load up the files\n",
        "X_train = np.load('gdrive/My Drive/facedata/X_train.npy')\n",
        "X_test = np.load('gdrive/My Drive/facedata/X_test.npy')\n",
        "Y_train = np.load('gdrive/My Drive/facedata/Y_train.npy')\n",
        "Y_test = np.load('gdrive/My Drive/facedata/Y_test.npy')\n",
        "X_train.shape, Y_train.shape, X_test.shape, Y_test.shape"
      ],
      "execution_count": 3,
      "outputs": [
        {
          "output_type": "execute_result",
          "data": {
            "text/plain": [
              "((28273, 48, 48, 3), (28273, 1), (7067, 48, 48, 3), (7067, 1))"
            ]
          },
          "metadata": {},
          "execution_count": 3
        }
      ]
    },
    {
      "cell_type": "code",
      "metadata": {
        "id": "PIMU5zdaUxS_",
        "colab": {
          "base_uri": "https://localhost:8080/",
          "height": 284
        },
        "outputId": "27757fd6-d04e-421b-e9d7-f419ac76177c"
      },
      "source": [
        "# visualizing the files based on index\n",
        "index = 2000\n",
        "img = X_train[index,:,:,:]\n",
        "print(f\"This is {index_to_emotion[Y_train[index, 0]]}\")\n",
        "img = img.astype(np.uint8)\n",
        "plt.imshow(img, cmap='Greys')\n",
        "plt.show()"
      ],
      "execution_count": 4,
      "outputs": [
        {
          "output_type": "stream",
          "name": "stdout",
          "text": [
            "This is happy\n"
          ]
        },
        {
          "output_type": "display_data",
          "data": {
            "text/plain": [
              "<Figure size 432x288 with 1 Axes>"
            ],
            "image/png": "[encoded data removed]"
          },
          "metadata": {
            "needs_background": "light"
          }
        }
      ]
    },
    {
      "cell_type": "code",
      "metadata": {
        "id": "nVgazLFVVYLE",
        "colab": {
          "base_uri": "https://localhost:8080/",
          "height": 302
        },
        "outputId": "11d6a49b-db66-42a6-ed72-8abe20146014"
      },
      "source": [
        "# number of images pertaining to each class\n",
        "arr = np.zeros((6,))\n",
        "for i in range(X_train.shape[0]):\n",
        "    val = np.uint8(Y_train[i])\n",
        "    arr[val] = arr[val] + 1\n",
        "#for i in range(7):\n",
        "#  print(f\"{index_to_emotion[i]} has {arr[i,0]}\")\n",
        "arr2 = np.reshape(arr, (-1))\n",
        "plt.bar([0,1,2,3,4,5], arr2)\n",
        "plt.xlabel(\"Emotion\", fontsize = 15)\n",
        "plt.ylabel(\"Number of images\", fontsize = 15)\n",
        "plt.title(\"Number of image per emotion in training set\", fontsize=15)\n",
        " \n",
        "plt.xticks([0,1,2,3,4,5], emotions)\n",
        " \n",
        "plt.show()"
      ],
      "execution_count": 5,
      "outputs": [
        {
          "output_type": "display_data",
          "data": {
            "text/plain": [
              "<Figure size 432x288 with 1 Axes>"
            ],
            "image/png": "[encoded data removed]"
          },
          "metadata": {
            "needs_background": "light"
          }
        }
      ]
    },
    {
      "cell_type": "markdown",
      "metadata": {
        "id": "IAf1er60Y-_z"
      },
      "source": [
        "As we can see, the number of images for the emotion disgust is quite low and the distribution for images is not quite same. Hence we will be using f1 score of model as an evaluation metric."
      ]
    },
    {
      "cell_type": "code",
      "metadata": {
        "id": "L_G_MN32V36X",
        "colab": {
          "base_uri": "https://localhost:8080/"
        },
        "outputId": "17e24063-c92b-4274-c937-effe446a0ee5"
      },
      "source": [
        "# preproceesing the images\n",
        "# scaling the X arrays\n",
        "X_train_proc = X_train/255.\n",
        "X_test_proc = X_test/255.\n",
        "# one hot encoding the Y arrays\n",
        "Y_train_proc = np.squeeze(np.array(tf.one_hot(Y_train,6, axis=1)))\n",
        "Y_test_proc = np.squeeze(np.array(tf.one_hot(Y_test,6, axis=1)))\n",
        "Y_train_proc.shape, Y_test_proc.shape"
      ],
      "execution_count": 6,
      "outputs": [
        {
          "output_type": "execute_result",
          "data": {
            "text/plain": [
              "((28273, 6), (7067, 6))"
            ]
          },
          "metadata": {},
          "execution_count": 6
        }
      ]
    },
    {
      "cell_type": "code",
      "metadata": {
        "id": "eK1xpwXYZv7t"
      },
      "source": [
        "from tensorflow.keras import Sequential\n",
        "from tensorflow.keras import Model\n",
        "from tensorflow.keras.layers import Conv2D, Dense, Flatten, BatchNormalization, Dropout, MaxPooling2D, Input"
      ],
      "execution_count": 7,
      "outputs": []
    },
    {
      "cell_type": "code",
      "metadata": {
        "id": "9DsqtSbgfx1K"
      },
      "source": [
        "input = Input(shape=(48,48,3))\n",
        "x = Conv2D(64, (5,5), activation='relu')(input)\n",
        "x = BatchNormalization()(x)\n",
        "x = MaxPooling2D((3,3), strides=2)(x)\n",
        "x = Dropout(0.25)(x)\n",
        "x = Conv2D(128, (5,5), activation='relu')(x)\n",
        "x = MaxPooling2D((3,3), strides=2)(x)\n",
        "x = Dropout(0.2)(x)\n",
        "x = Conv2D(256, (4,4), activation='relu')(x)\n",
        "x = Flatten()(x)\n",
        "x = Dense(100, activation='relu')(x)\n",
        "output = Dense(6, activation='softmax')(x)\n",
        "model = Model(inputs=input, outputs=output)"
      ],
      "execution_count": 8,
      "outputs": []
    },
    {
      "cell_type": "code",
      "metadata": {
        "id": "cDWxsX5QZ6Dw",
        "colab": {
          "base_uri": "https://localhost:8080/"
        },
        "outputId": "b9deb96c-7a99-48b5-d40a-e0ee8fb91f57"
      },
      "source": [
        "model.summary()"
      ],
      "execution_count": 9,
      "outputs": [
        {
          "output_type": "stream",
          "name": "stdout",
          "text": [
            "Model: \"model\"\n",
            "_________________________________________________________________\n",
            " Layer (type)                Output Shape              Param #   \n",
            "=================================================================\n",
            " input_1 (InputLayer)        [(None, 48, 48, 3)]       0         \n",
            "                                                                 \n",
            " conv2d (Conv2D)             (None, 44, 44, 64)        4864      \n",
            "                                                                 \n",
            " batch_normalization (BatchN  (None, 44, 44, 64)       256       \n",
            " ormalization)                                                   \n",
            "                                                                 \n",
            " max_pooling2d (MaxPooling2D  (None, 21, 21, 64)       0         \n",
            " )                                                               \n",
            "                                                                 \n",
            " dropout (Dropout)           (None, 21, 21, 64)        0         \n",
            "                                                                 \n",
            " conv2d_1 (Conv2D)           (None, 17, 17, 128)       204928    \n",
            "                                                                 \n",
            " max_pooling2d_1 (MaxPooling  (None, 8, 8, 128)        0         \n",
            " 2D)                                                             \n",
            "                                                                 \n",
            " dropout_1 (Dropout)         (None, 8, 8, 128)         0         \n",
            "                                                                 \n",
            " conv2d_2 (Conv2D)           (None, 5, 5, 256)         524544    \n",
            "                                                                 \n",
            " flatten (Flatten)           (None, 6400)              0         \n",
            "                                                                 \n",
            " dense (Dense)               (None, 100)               640100    \n",
            "                                                                 \n",
            " dense_1 (Dense)             (None, 6)                 606       \n",
            "                                                                 \n",
            "=================================================================\n",
            "Total params: 1,375,298\n",
            "Trainable params: 1,375,170\n",
            "Non-trainable params: 128\n",
            "_________________________________________________________________\n"
          ]
        }
      ]
    },
    {
      "cell_type": "code",
      "metadata": {
        "id": "hsA1rTJJdiAA",
        "colab": {
          "base_uri": "https://localhost:8080/"
        },
        "outputId": "304ac9c1-b0e2-43a3-bcb0-0949e2ecdcb3"
      },
      "source": [
        "# compiling the model with adam optimizer\n",
        "from tensorflow.keras.optimizers import Adam\n",
        "opt = Adam(lr=0.0001, decay=0.0001 / 40)\n",
        " \n",
        "model.compile(optimizer=opt, loss = 'categorical_crossentropy', metrics = [tf.keras.metrics.Precision(),\n",
        "                                                                           tf.keras.metrics.Recall(),\n",
        "                                                                           'accuracy'])"
      ],
      "execution_count": 10,
      "outputs": [
        {
          "output_type": "stream",
          "name": "stderr",
          "text": [
            "/usr/local/lib/python3.7/dist-packages/keras/optimizer_v2/adam.py:105: UserWarning: The `lr` argument is deprecated, use `learning_rate` instead.\n",
            "  super(Adam, self).__init__(name, **kwargs)\n"
          ]
        }
      ]
    },
    {
      "cell_type": "code",
      "metadata": {
        "id": "-UH1V7l-jp9n",
        "colab": {
          "base_uri": "https://localhost:8080/"
        },
        "outputId": "4f68781c-e7d1-40e9-de5a-193f98f29be5"
      },
      "source": [
        "history = model.fit(X_train_proc, Y_train_proc, epochs=32, verbose=1, validation_data=(X_test_proc, Y_test_proc))"
      ],
      "execution_count": 11,
      "outputs": [
        {
          "output_type": "stream",
          "name": "stdout",
          "text": [
            "Epoch 1/32\n",
            "884/884 [==============================] - 23s 20ms/step - loss: 1.5543 - precision: 0.6960 - recall: 0.1070 - accuracy: 0.3726 - val_loss: 1.4054 - val_precision: 0.7968 - val_recall: 0.1637 - val_accuracy: 0.4544\n",
            "Epoch 2/32\n",
            "884/884 [==============================] - 12s 13ms/step - loss: 1.3423 - precision: 0.7401 - recall: 0.2302 - accuracy: 0.4714 - val_loss: 1.2934 - val_precision: 0.8038 - val_recall: 0.2237 - val_accuracy: 0.4955\n",
            "Epoch 3/32\n",
            "884/884 [==============================] - 12s 13ms/step - loss: 1.2303 - precision: 0.7471 - recall: 0.2982 - accuracy: 0.5225 - val_loss: 1.2680 - val_precision: 0.7372 - val_recall: 0.2863 - val_accuracy: 0.5165\n",
            "Epoch 4/32\n",
            "884/884 [==============================] - 10s 11ms/step - loss: 1.1479 - precision: 0.7560 - recall: 0.3509 - accuracy: 0.5581 - val_loss: 1.1497 - val_precision: 0.7810 - val_recall: 0.3412 - val_accuracy: 0.5622\n",
            "Epoch 5/32\n",
            "884/884 [==============================] - 10s 11ms/step - loss: 1.0741 - precision: 0.7638 - recall: 0.4041 - accuracy: 0.5900 - val_loss: 1.1247 - val_precision: 0.7342 - val_recall: 0.3944 - val_accuracy: 0.5677\n",
            "Epoch 6/32\n",
            "884/884 [==============================] - 10s 11ms/step - loss: 1.0100 - precision: 0.7680 - recall: 0.4496 - accuracy: 0.6177 - val_loss: 1.1090 - val_precision: 0.7134 - val_recall: 0.4346 - val_accuracy: 0.5744\n",
            "Epoch 7/32\n",
            "884/884 [==============================] - 10s 11ms/step - loss: 0.9445 - precision: 0.7813 - recall: 0.4932 - accuracy: 0.6423 - val_loss: 1.1036 - val_precision: 0.7285 - val_recall: 0.4358 - val_accuracy: 0.5813\n",
            "Epoch 8/32\n",
            "884/884 [==============================] - 10s 11ms/step - loss: 0.8722 - precision: 0.7943 - recall: 0.5404 - accuracy: 0.6750 - val_loss: 1.0952 - val_precision: 0.7290 - val_recall: 0.4442 - val_accuracy: 0.5889\n",
            "Epoch 9/32\n",
            "884/884 [==============================] - 13s 15ms/step - loss: 0.8071 - precision: 0.8058 - recall: 0.5856 - accuracy: 0.7013 - val_loss: 1.1062 - val_precision: 0.7129 - val_recall: 0.4739 - val_accuracy: 0.5940\n",
            "Epoch 10/32\n",
            "884/884 [==============================] - 10s 11ms/step - loss: 0.7406 - precision: 0.8199 - recall: 0.6269 - accuracy: 0.7300 - val_loss: 1.1136 - val_precision: 0.6957 - val_recall: 0.5056 - val_accuracy: 0.6008\n",
            "Epoch 11/32\n",
            "884/884 [==============================] - 11s 13ms/step - loss: 0.6664 - precision: 0.8344 - recall: 0.6700 - accuracy: 0.7541 - val_loss: 1.1448 - val_precision: 0.6902 - val_recall: 0.5129 - val_accuracy: 0.5977\n",
            "Epoch 12/32\n",
            "884/884 [==============================] - 10s 11ms/step - loss: 0.6008 - precision: 0.8499 - recall: 0.7093 - accuracy: 0.7843 - val_loss: 1.1974 - val_precision: 0.6696 - val_recall: 0.5223 - val_accuracy: 0.5909\n",
            "Epoch 13/32\n",
            "884/884 [==============================] - 10s 11ms/step - loss: 0.5395 - precision: 0.8575 - recall: 0.7431 - accuracy: 0.8008 - val_loss: 1.2239 - val_precision: 0.6610 - val_recall: 0.5424 - val_accuracy: 0.6000\n",
            "Epoch 14/32\n",
            "884/884 [==============================] - 10s 11ms/step - loss: 0.4751 - precision: 0.8775 - recall: 0.7805 - accuracy: 0.8304 - val_loss: 1.2680 - val_precision: 0.6619 - val_recall: 0.5598 - val_accuracy: 0.6086\n",
            "Epoch 15/32\n",
            "884/884 [==============================] - 10s 11ms/step - loss: 0.4265 - precision: 0.8891 - recall: 0.8076 - accuracy: 0.8489 - val_loss: 1.3394 - val_precision: 0.6546 - val_recall: 0.5567 - val_accuracy: 0.5971\n",
            "Epoch 16/32\n",
            "884/884 [==============================] - 10s 11ms/step - loss: 0.3774 - precision: 0.8987 - recall: 0.8311 - accuracy: 0.8666 - val_loss: 1.3713 - val_precision: 0.6493 - val_recall: 0.5643 - val_accuracy: 0.6063\n",
            "Epoch 17/32\n",
            "884/884 [==============================] - 11s 12ms/step - loss: 0.3335 - precision: 0.9106 - recall: 0.8531 - accuracy: 0.8826 - val_loss: 1.4223 - val_precision: 0.6454 - val_recall: 0.5679 - val_accuracy: 0.6048\n",
            "Epoch 18/32\n",
            "884/884 [==============================] - 10s 11ms/step - loss: 0.2950 - precision: 0.9205 - recall: 0.8735 - accuracy: 0.8978 - val_loss: 1.5898 - val_precision: 0.6298 - val_recall: 0.5745 - val_accuracy: 0.5986\n",
            "Epoch 19/32\n",
            "884/884 [==============================] - 10s 11ms/step - loss: 0.2615 - precision: 0.9290 - recall: 0.8925 - accuracy: 0.9107 - val_loss: 1.5654 - val_precision: 0.6278 - val_recall: 0.5704 - val_accuracy: 0.5950\n",
            "Epoch 20/32\n",
            "884/884 [==============================] - 10s 11ms/step - loss: 0.2376 - precision: 0.9336 - recall: 0.9014 - accuracy: 0.9182 - val_loss: 1.6939 - val_precision: 0.6277 - val_recall: 0.5769 - val_accuracy: 0.5980\n",
            "Epoch 21/32\n",
            "884/884 [==============================] - 10s 11ms/step - loss: 0.2118 - precision: 0.9409 - recall: 0.9129 - accuracy: 0.9262 - val_loss: 1.7260 - val_precision: 0.6252 - val_recall: 0.5783 - val_accuracy: 0.6014\n",
            "Epoch 22/32\n",
            "884/884 [==============================] - 10s 11ms/step - loss: 0.2010 - precision: 0.9417 - recall: 0.9177 - accuracy: 0.9303 - val_loss: 1.6550 - val_precision: 0.6318 - val_recall: 0.5844 - val_accuracy: 0.6053\n",
            "Epoch 23/32\n",
            "884/884 [==============================] - 10s 11ms/step - loss: 0.1805 - precision: 0.9485 - recall: 0.9278 - accuracy: 0.9382 - val_loss: 1.7798 - val_precision: 0.6273 - val_recall: 0.5812 - val_accuracy: 0.5995\n",
            "Epoch 24/32\n",
            "884/884 [==============================] - 10s 11ms/step - loss: 0.1642 - precision: 0.9528 - recall: 0.9359 - accuracy: 0.9446 - val_loss: 1.8127 - val_precision: 0.6243 - val_recall: 0.5821 - val_accuracy: 0.6042\n",
            "Epoch 25/32\n",
            "884/884 [==============================] - 11s 12ms/step - loss: 0.1518 - precision: 0.9572 - recall: 0.9421 - accuracy: 0.9504 - val_loss: 1.9294 - val_precision: 0.6177 - val_recall: 0.5827 - val_accuracy: 0.5995\n",
            "Epoch 26/32\n",
            "884/884 [==============================] - 10s 11ms/step - loss: 0.1452 - precision: 0.9577 - recall: 0.9452 - accuracy: 0.9520 - val_loss: 1.9018 - val_precision: 0.6206 - val_recall: 0.5838 - val_accuracy: 0.6020\n",
            "Epoch 27/32\n",
            "884/884 [==============================] - 10s 11ms/step - loss: 0.1391 - precision: 0.9574 - recall: 0.9462 - accuracy: 0.9524 - val_loss: 1.9095 - val_precision: 0.6150 - val_recall: 0.5749 - val_accuracy: 0.5946\n",
            "Epoch 28/32\n",
            "884/884 [==============================] - 10s 11ms/step - loss: 0.1268 - precision: 0.9635 - recall: 0.9532 - accuracy: 0.9588 - val_loss: 2.0747 - val_precision: 0.6219 - val_recall: 0.5889 - val_accuracy: 0.6039\n",
            "Epoch 29/32\n",
            "884/884 [==============================] - 10s 11ms/step - loss: 0.1169 - precision: 0.9652 - recall: 0.9568 - accuracy: 0.9606 - val_loss: 2.0685 - val_precision: 0.6176 - val_recall: 0.5881 - val_accuracy: 0.6007\n",
            "Epoch 30/32\n",
            "884/884 [==============================] - 10s 11ms/step - loss: 0.1165 - precision: 0.9637 - recall: 0.9560 - accuracy: 0.9598 - val_loss: 2.1002 - val_precision: 0.5938 - val_recall: 0.5618 - val_accuracy: 0.5773\n",
            "Epoch 31/32\n",
            "884/884 [==============================] - 10s 11ms/step - loss: 0.1038 - precision: 0.9701 - recall: 0.9629 - accuracy: 0.9671 - val_loss: 2.2249 - val_precision: 0.6102 - val_recall: 0.5868 - val_accuracy: 0.5990\n",
            "Epoch 32/32\n",
            "884/884 [==============================] - 10s 11ms/step - loss: 0.1119 - precision: 0.9663 - recall: 0.9592 - accuracy: 0.9630 - val_loss: 2.1150 - val_precision: 0.6166 - val_recall: 0.5909 - val_accuracy: 0.6031\n"
          ]
        }
      ]
    },
    {
      "cell_type": "code",
      "metadata": {
        "id": "TGrG87j-j8P3"
      },
      "source": [
        "# PLOTTING TRAINING RESULTS\n",
        "# plotting accuracy, loss, recall, precision and f1 score of training and validation sets\n",
        " \n",
        "num = 5\n",
        "prec = f\"precision_{num}\"\n",
        "rec = f\"recall_{num}\"\n",
        "valprec = f\"val_precision_{num}\"\n",
        "valrec = f\"val_recall_{num}\"\n",
        " \n",
        " \n",
        "plt.figure(figsize=(10,20))\n",
        " \n",
        "plt.subplot(511)\n",
        "plt.plot(history.history['accuracy'], '--', label='acc')\n",
        "plt.plot(history.history['val_accuracy'], '--',label='val_acc')\n",
        "plt.title('model accuracy',fontsize=15, color='green')\n",
        "plt.ylabel('accuracy')\n",
        "plt.xlabel('epoch')\n",
        "plt.legend(loc='upper left')\n",
        "#axes=plt.gca()\n",
        "#axes.set_ylim([0.965, 1])\n",
        "plt.tight_layout(h_pad=3.0)\n",
        " \n",
        " \n",
        "plt.subplot(512)\n",
        "plt.plot(history.history['loss'], '--', label='loss')\n",
        "plt.plot(history.history['val_loss'], '--',label='val_loss')\n",
        "plt.title('model loss',fontsize=15, color='green')\n",
        "plt.ylabel('loss')\n",
        "plt.xlabel('epoch')\n",
        "plt.legend(loc='upper left')\n",
        "#axes=plt.gca()\n",
        " \n",
        "plt.subplot(513)\n",
        "plt.plot(history.history[prec], '--', label='precision')\n",
        "plt.plot(history.history[valprec], '--',label='val_precision')\n",
        "plt.title('model precision',fontsize=15, color='green')\n",
        "plt.ylabel('precision')\n",
        "plt.xlabel('epoch')\n",
        "plt.legend(loc='upper left')\n",
        "#axes=plt.gca()\n",
        " \n",
        "plt.subplot(514)\n",
        "plt.plot(history.history[rec], '--', label='recall')\n",
        "plt.plot(history.history[valrec], '--',label='val_recall')\n",
        "plt.title('model recall',fontsize=15, color='green')\n",
        "plt.ylabel('recall')\n",
        "plt.xlabel('epoch')\n",
        "plt.legend(loc='upper left')\n",
        "#axes=plt.gca()\n",
        " \n",
        "precision = history.history[prec]\n",
        "recall = history.history[rec]\n",
        "precval = history.history[valprec]\n",
        "recval = history.history[valrec]\n",
        "f1 = [(2*a*b)/(a+b) for a,b in zip(precision, recall)]\n",
        "f1_val = [(2*a*b)/(a+b+1e-7) for a,b in zip(precval, recval)]\n",
        " \n",
        "plt.subplot(515)\n",
        "plt.plot(f1, '--', label='f1_score')\n",
        "plt.plot(f1_val, '--',label='f1_score_val')\n",
        "plt.title('model f1 score',fontsize=15)\n",
        "plt.ylabel('f1 score')\n",
        "plt.xlabel('epoch')\n",
        "plt.legend(loc='upper left')\n",
        "#axes=plt.gca()\n",
        " \n",
        "plt.show()"
      ],
      "execution_count": null,
      "outputs": []
    },
    {
      "cell_type": "code",
      "metadata": {
        "id": "CCHvhQ1zpBpi",
        "colab": {
          "base_uri": "https://localhost:8080/"
        },
        "outputId": "f0cee80d-f448-4d71-ce43-f1b8e26d271f"
      },
      "source": [
        "# classification reports and confusion matrix\n",
        "from sklearn.metrics import classification_report\n",
        "print('\\nClassification Report\\n')\n",
        "preds = model.predict(X_test_proc)\n",
        "y_pred = np.argmax(preds, axis=1)\n",
        "print(classification_report(Y_test, y_pred, target_names=emotions))\n",
        "from sklearn.metrics import confusion_matrix\n",
        "confusion = confusion_matrix(Y_test, y_pred)\n",
        "print('Confusion Matrix\\n')\n",
        "print(confusion)"
      ],
      "execution_count": 12,
      "outputs": [
        {
          "output_type": "stream",
          "name": "stdout",
          "text": [
            "\n",
            "Classification Report\n",
            "\n",
            "              precision    recall  f1-score   support\n",
            "\n",
            "       angry       0.55      0.47      0.50       958\n",
            "     fearful       0.46      0.47      0.46      1024\n",
            "       happy       0.78      0.80      0.79      1774\n",
            "     neutral       0.53      0.58      0.55      1233\n",
            "         sad       0.48      0.48      0.48      1247\n",
            "   surprised       0.74      0.74      0.74       831\n",
            "\n",
            "    accuracy                           0.60      7067\n",
            "   macro avg       0.59      0.59      0.59      7067\n",
            "weighted avg       0.60      0.60      0.60      7067\n",
            "\n",
            "Confusion Matrix\n",
            "\n",
            "[[ 446  135   69  130  148   30]\n",
            " [ 105  477   58  115  190   79]\n",
            " [  40   41 1415  139   95   44]\n",
            " [  86  112  110  712  189   24]\n",
            " [ 121  187  110  200  594   35]\n",
            " [  20   87   41   40   25  618]]\n"
          ]
        }
      ]
    },
    {
      "cell_type": "code",
      "metadata": {
        "id": "qnpbYgwE3NrM",
        "colab": {
          "base_uri": "https://localhost:8080/",
          "height": 910
        },
        "outputId": "2558f620-25cc-4a21-e666-06b1c2bcd39d"
      },
      "source": [
        "# confusion matrix\n",
        "import seaborn as sns\n",
        "import matplotlib.pyplot as plt     \n",
        " \n",
        "plt.figure(figsize=(15,15))\n",
        "ax= plt.subplot()\n",
        "sns.heatmap(confusion, annot=True, ax = ax, fmt='g'); #annot=True to annotate cells\n",
        "ax.xaxis.set_tick_params(labeltop='on')\n",
        "# labels, title and ticks\n",
        "ax.set_xlabel('Predicted labels');\n",
        "ax.set_ylabel('True labels'); \n",
        "ax.set_title('Confusion Matrix'); \n",
        "rev = []\n",
        "for i in range(5,-1,-1):\n",
        "  rev.append(emotions[i])\n",
        "ax.xaxis.set_ticklabels(emotions); \n",
        " \n",
        "ax.yaxis.set_ticklabels(emotions);"
      ],
      "execution_count": 13,
      "outputs": [
        {
          "output_type": "display_data",
          "data": {
            "text/plain": [
              "<Figure size 1080x1080 with 2 Axes>"
            ],
            "image/png": "[encoded data removed]"
          },
          "metadata": {
            "needs_background": "light"
          }
        }
      ]
    },
    {
      "cell_type": "code",
      "metadata": {
        "id": "_Nc1FDpV7JMd"
      },
      "source": [
        "# saving the model\n",
        "model.save('my_model.h5')"
      ],
      "execution_count": 17,
      "outputs": []
    }
  ]
}